{
 "cells": [
  {
   "cell_type": "code",
   "execution_count": 1,
   "metadata": {},
   "outputs": [
    {
     "name": "stdout",
     "output_type": "stream",
     "text": [
      "hello\n"
     ]
    }
   ],
   "source": [
    "print('hello')"
   ]
  },
  {
   "cell_type": "code",
   "execution_count": 36,
   "metadata": {},
   "outputs": [
    {
     "name": "stdout",
     "output_type": "stream",
     "text": [
      "True\n"
     ]
    },
    {
     "data": {
      "image/png": "[encoded data removed]",
      "text/plain": [
       "<Figure size 432x288 with 1 Axes>"
      ]
     },
     "metadata": {
      "needs_background": "light"
     },
     "output_type": "display_data"
    }
   ],
   "source": [
    "import numpy as np\n",
    "import matplotlib.pyplot as plt\n",
    "class ChessBoard():\n",
    "    def __init__(self):\n",
    "        self.grid = np.zeros((8,8,3), np.float64)\n",
    "        div = 1\n",
    "        for i in range(8):\n",
    "            for j in range(8):\n",
    "                div = 0 if div else 1\n",
    "                if i % 2 == div and j % 2 == div:\n",
    "                    self.grid[i][j] = np.array((1,1,1))\n",
    "    def  add_red (self,row,col):\n",
    "        self.red_row=row\n",
    "        self.red_col=col\n",
    "        self.grid[row][col]=np.array((1,.2,0))\n",
    "\n",
    "    def  add_blue (self,row,col):\n",
    "        self.blue_row=row\n",
    "        self.blue_col=col\n",
    "        self.grid[row][col]=np.array((0,1,1))\n",
    "\n",
    "    def render(self):\n",
    "        plt.imshow(self.grid)\n",
    "    \n",
    "    def is_under_attack(self):\n",
    "\n",
    "        if self.blue_row==self.red_row or self.blue_col==self.red_col:\n",
    "            return True\n",
    "        elif abs(self.blue_row - self.red_row) == abs(self.blue_col - self.red_col):\n",
    "            return True    \n",
    "        else:\n",
    "            return False\n",
    "\n",
    "\n",
    "chess=ChessBoard()\n",
    "chess.add_red(1,3)\n",
    "chess.add_blue(3,5)\n",
    "chess.render()\n",
    "print(chess.is_under_attack())"
   ]
  }
 ],
 "metadata": {
  "interpreter": {
   "hash": "a75a5d6aa5537495769bd068d276b53d59c6dfc332cbfe42345b36d2245f5d65"
  },
  "kernelspec": {
   "display_name": "Python 3.9.5 64-bit ('.venv': poetry)",
   "name": "python3"
  },
  "language_info": {
   "codemirror_mode": {
    "name": "ipython",
    "version": 3
   },
   "file_extension": ".py",
   "mimetype": "text/x-python",
   "name": "python",
   "nbconvert_exporter": "python",
   "pygments_lexer": "ipython3",
   "version": "3.9.5"
  },
  "orig_nbformat": 4
 },
 "nbformat": 4,
 "nbformat_minor": 2
}
